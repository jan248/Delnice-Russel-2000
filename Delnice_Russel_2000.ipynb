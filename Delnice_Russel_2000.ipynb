{
 "cells": [
  {
   "cell_type": "markdown",
   "metadata": {},
   "source": [
    "# Analiza delnic indeksa Russel 2000\n",
    "\n",
    "Analiziral bom delnice, ki sestavljajo borzni indeks Russel 2000, ki kotira na londonski borzi. Pridobil sem podatke o imenu podjetij, ceni delnice, spremembi cene delnice, spremembe v odstotkih, PE razmerje, ki nam pove kakšno je vrednotenje delnice glede na njen dobiček, število delnic in sprememba v odstotkih v letošnjem letu."
   ]
  },
  {
   "cell_type": "code",
   "execution_count": 249,
   "metadata": {},
   "outputs": [],
   "source": [
    "#naložimo paket\n",
    "import pandas as pd\n",
    "import matplotlib.pyplot as plt\n",
    "\n",
    "\n",
    "\n",
    "%matplotlib inline\n",
    "\n",
    "delnice = pd.read_csv('podatki.csv')"
   ]
  },
  {
   "cell_type": "markdown",
   "metadata": {},
   "source": [
    "V sledeči tabeli imamo vse delnice iz indeksa Russel 2000. "
   ]
  },
  {
   "cell_type": "code",
   "execution_count": 250,
   "metadata": {},
   "outputs": [
    {
     "data": {
      "text/html": [
       "<div>\n",
       "<style scoped>\n",
       "    .dataframe tbody tr th:only-of-type {\n",
       "        vertical-align: middle;\n",
       "    }\n",
       "\n",
       "    .dataframe tbody tr th {\n",
       "        vertical-align: top;\n",
       "    }\n",
       "\n",
       "    .dataframe thead th {\n",
       "        text-align: right;\n",
       "    }\n",
       "</style>\n",
       "<table border=\"1\" class=\"dataframe\">\n",
       "  <thead>\n",
       "    <tr style=\"text-align: right;\">\n",
       "      <th></th>\n",
       "      <th>Oznaka</th>\n",
       "      <th>Ime_podjetja</th>\n",
       "      <th>Cena</th>\n",
       "      <th>Sprememba_cene</th>\n",
       "      <th>Sprememba_v_odstotkih</th>\n",
       "      <th>PE_razmerje</th>\n",
       "      <th>Stevilo_delnic</th>\n",
       "      <th>Sprememba_do_danes</th>\n",
       "    </tr>\n",
       "  </thead>\n",
       "  <tbody>\n",
       "    <tr>\n",
       "      <td>0</td>\n",
       "      <td>FLWS</td>\n",
       "      <td>1-800 FLOWERS COM</td>\n",
       "      <td>13.64</td>\n",
       "      <td>-0.160</td>\n",
       "      <td>-1.16%</td>\n",
       "      <td>24.8</td>\n",
       "      <td>478.5K</td>\n",
       "      <td>-5.93%</td>\n",
       "    </tr>\n",
       "    <tr>\n",
       "      <td>1</td>\n",
       "      <td>SRCE</td>\n",
       "      <td>1ST SOURCE CORP</td>\n",
       "      <td>50.71</td>\n",
       "      <td>-0.080</td>\n",
       "      <td>-0.16%</td>\n",
       "      <td>14.3</td>\n",
       "      <td>32.2K</td>\n",
       "      <td>-2.26%</td>\n",
       "    </tr>\n",
       "    <tr>\n",
       "      <td>2</td>\n",
       "      <td>AHC</td>\n",
       "      <td>A H BELO CORP</td>\n",
       "      <td>2.90</td>\n",
       "      <td>0.009</td>\n",
       "      <td>+0.31%</td>\n",
       "      <td>4.9</td>\n",
       "      <td>27.5K</td>\n",
       "      <td>+2.84%</td>\n",
       "    </tr>\n",
       "    <tr>\n",
       "      <td>3</td>\n",
       "      <td>AAON</td>\n",
       "      <td>AAON INC</td>\n",
       "      <td>50.85</td>\n",
       "      <td>0.840</td>\n",
       "      <td>+1.68%</td>\n",
       "      <td>53.0</td>\n",
       "      <td>95.0K</td>\n",
       "      <td>+2.91%</td>\n",
       "    </tr>\n",
       "    <tr>\n",
       "      <td>4</td>\n",
       "      <td>AIR</td>\n",
       "      <td>AAR CORP</td>\n",
       "      <td>46.78</td>\n",
       "      <td>0.010</td>\n",
       "      <td>+0.02%</td>\n",
       "      <td>17.9</td>\n",
       "      <td>162.1K</td>\n",
       "      <td>+3.73%</td>\n",
       "    </tr>\n",
       "    <tr>\n",
       "      <td>...</td>\n",
       "      <td>...</td>\n",
       "      <td>...</td>\n",
       "      <td>...</td>\n",
       "      <td>...</td>\n",
       "      <td>...</td>\n",
       "      <td>...</td>\n",
       "      <td>...</td>\n",
       "      <td>...</td>\n",
       "    </tr>\n",
       "    <tr>\n",
       "      <td>1127</td>\n",
       "      <td>ZAGG</td>\n",
       "      <td>ZAGG INC</td>\n",
       "      <td>7.71</td>\n",
       "      <td>-0.280</td>\n",
       "      <td>-3.50%</td>\n",
       "      <td>59.3</td>\n",
       "      <td>448.0K</td>\n",
       "      <td>-4.93%</td>\n",
       "    </tr>\n",
       "    <tr>\n",
       "      <td>1128</td>\n",
       "      <td>ZIOP</td>\n",
       "      <td>ZIOPHARM ONCOLOGY INC</td>\n",
       "      <td>4.55</td>\n",
       "      <td>-0.040</td>\n",
       "      <td>-0.87%</td>\n",
       "      <td>6.1</td>\n",
       "      <td>1.0M</td>\n",
       "      <td>-3.60%</td>\n",
       "    </tr>\n",
       "    <tr>\n",
       "      <td>1129</td>\n",
       "      <td>ZIXI</td>\n",
       "      <td>ZIX CORP</td>\n",
       "      <td>7.73</td>\n",
       "      <td>0.215</td>\n",
       "      <td>+2.86%</td>\n",
       "      <td>NM</td>\n",
       "      <td>820.1K</td>\n",
       "      <td>+13.94%</td>\n",
       "    </tr>\n",
       "    <tr>\n",
       "      <td>1130</td>\n",
       "      <td>ZGNX</td>\n",
       "      <td>ZOGENIX INC</td>\n",
       "      <td>52.70</td>\n",
       "      <td>0.680</td>\n",
       "      <td>+1.31%</td>\n",
       "      <td>NM</td>\n",
       "      <td>328.5K</td>\n",
       "      <td>+1.09%</td>\n",
       "    </tr>\n",
       "    <tr>\n",
       "      <td>1131</td>\n",
       "      <td>ZUMZ</td>\n",
       "      <td>ZUMIEZ INC</td>\n",
       "      <td>33.97</td>\n",
       "      <td>-0.510</td>\n",
       "      <td>-1.49%</td>\n",
       "      <td>14.7</td>\n",
       "      <td>393.7K</td>\n",
       "      <td>-1.66%</td>\n",
       "    </tr>\n",
       "  </tbody>\n",
       "</table>\n",
       "<p>1132 rows × 8 columns</p>\n",
       "</div>"
      ],
      "text/plain": [
       "     Oznaka           Ime_podjetja   Cena  Sprememba_cene  \\\n",
       "0      FLWS      1-800 FLOWERS COM  13.64          -0.160   \n",
       "1      SRCE        1ST SOURCE CORP  50.71          -0.080   \n",
       "2       AHC          A H BELO CORP   2.90           0.009   \n",
       "3      AAON               AAON INC  50.85           0.840   \n",
       "4       AIR               AAR CORP  46.78           0.010   \n",
       "...     ...                    ...    ...             ...   \n",
       "1127   ZAGG               ZAGG INC   7.71          -0.280   \n",
       "1128   ZIOP  ZIOPHARM ONCOLOGY INC   4.55          -0.040   \n",
       "1129   ZIXI               ZIX CORP   7.73           0.215   \n",
       "1130   ZGNX            ZOGENIX INC  52.70           0.680   \n",
       "1131   ZUMZ             ZUMIEZ INC  33.97          -0.510   \n",
       "\n",
       "     Sprememba_v_odstotkih PE_razmerje Stevilo_delnic Sprememba_do_danes  \n",
       "0                   -1.16%        24.8         478.5K             -5.93%  \n",
       "1                   -0.16%        14.3          32.2K             -2.26%  \n",
       "2                   +0.31%         4.9          27.5K             +2.84%  \n",
       "3                   +1.68%        53.0          95.0K             +2.91%  \n",
       "4                   +0.02%        17.9         162.1K             +3.73%  \n",
       "...                    ...         ...            ...                ...  \n",
       "1127                -3.50%        59.3         448.0K             -4.93%  \n",
       "1128                -0.87%         6.1           1.0M             -3.60%  \n",
       "1129                +2.86%          NM         820.1K            +13.94%  \n",
       "1130                +1.31%          NM         328.5K             +1.09%  \n",
       "1131                -1.49%        14.7         393.7K             -1.66%  \n",
       "\n",
       "[1132 rows x 8 columns]"
      ]
     },
     "execution_count": 250,
     "metadata": {},
     "output_type": "execute_result"
    }
   ],
   "source": [
    "delnice"
   ]
  },
  {
   "cell_type": "markdown",
   "metadata": {},
   "source": [
    "Najprej sem uredil tabelo delnice, da so v njej le številke, ki sem jih lahko nato analiziral."
   ]
  },
  {
   "cell_type": "code",
   "execution_count": 251,
   "metadata": {},
   "outputs": [],
   "source": [
    "delnice.Stevilo_delnic = (delnice.Stevilo_delnic.replace(r'[KM]+$', '', regex=True).astype(float) * \\\n",
    "   ....:           delnice.Stevilo_delnic.str.extract(r'[\\d\\.]+([KM]+)', expand=False)\n",
    "   ....:             .fillna(1)\n",
    "   ....:             .replace(['K','M'], [10**3, 10**6]).astype(int))\n"
   ]
  },
  {
   "cell_type": "code",
   "execution_count": 252,
   "metadata": {},
   "outputs": [],
   "source": [
    "delnice['PE_razmerje'] = delnice['PE_razmerje'].replace('NM',0)\n"
   ]
  },
  {
   "cell_type": "code",
   "execution_count": 253,
   "metadata": {},
   "outputs": [],
   "source": [
    "delnice['Sprememba_v_odstotkih'] = delnice['Sprememba_v_odstotkih'].map(lambda x: x.lstrip('+').rstrip('%'))\n",
    "delnice['Sprememba_do_danes'] = delnice['Sprememba_do_danes'].map(lambda x: x.lstrip('+').rstrip('%'))"
   ]
  },
  {
   "cell_type": "code",
   "execution_count": 254,
   "metadata": {},
   "outputs": [],
   "source": [
    "delnice['Cena'] = pd.to_numeric(delnice['Cena'],errors='coerce')\n",
    "delnice['Sprememba_do_danes'] = pd.to_numeric(delnice['Sprememba_do_danes'],errors='coerce')\n",
    "delnice['Sprememba_v_odstotkih'] = pd.to_numeric(delnice['Sprememba_v_odstotkih'],errors='coerce')\n",
    "delnice['Stevilo_delnic'] = pd.to_numeric(delnice['Stevilo_delnic'],errors='coerce')\n",
    "delnice['PE_razmerje'] = pd.to_numeric(delnice['PE_razmerje'],errors='coerce')"
   ]
  },
  {
   "cell_type": "code",
   "execution_count": 255,
   "metadata": {},
   "outputs": [
    {
     "data": {
      "text/html": [
       "<div>\n",
       "<style scoped>\n",
       "    .dataframe tbody tr th:only-of-type {\n",
       "        vertical-align: middle;\n",
       "    }\n",
       "\n",
       "    .dataframe tbody tr th {\n",
       "        vertical-align: top;\n",
       "    }\n",
       "\n",
       "    .dataframe thead th {\n",
       "        text-align: right;\n",
       "    }\n",
       "</style>\n",
       "<table border=\"1\" class=\"dataframe\">\n",
       "  <thead>\n",
       "    <tr style=\"text-align: right;\">\n",
       "      <th></th>\n",
       "      <th>Oznaka</th>\n",
       "      <th>Ime_podjetja</th>\n",
       "      <th>Cena</th>\n",
       "      <th>Sprememba_cene</th>\n",
       "      <th>Sprememba_v_odstotkih</th>\n",
       "      <th>PE_razmerje</th>\n",
       "      <th>Stevilo_delnic</th>\n",
       "      <th>Sprememba_do_danes</th>\n",
       "    </tr>\n",
       "  </thead>\n",
       "  <tbody>\n",
       "    <tr>\n",
       "      <td>0</td>\n",
       "      <td>FLWS</td>\n",
       "      <td>1-800 FLOWERS COM</td>\n",
       "      <td>13.64</td>\n",
       "      <td>-0.160</td>\n",
       "      <td>-1.16</td>\n",
       "      <td>24.8</td>\n",
       "      <td>47.85</td>\n",
       "      <td>-5.93</td>\n",
       "    </tr>\n",
       "    <tr>\n",
       "      <td>1</td>\n",
       "      <td>SRCE</td>\n",
       "      <td>1ST SOURCE CORP</td>\n",
       "      <td>50.71</td>\n",
       "      <td>-0.080</td>\n",
       "      <td>-0.16</td>\n",
       "      <td>14.3</td>\n",
       "      <td>3.22</td>\n",
       "      <td>-2.26</td>\n",
       "    </tr>\n",
       "    <tr>\n",
       "      <td>2</td>\n",
       "      <td>AHC</td>\n",
       "      <td>A H BELO CORP</td>\n",
       "      <td>2.90</td>\n",
       "      <td>0.009</td>\n",
       "      <td>0.31</td>\n",
       "      <td>4.9</td>\n",
       "      <td>2.75</td>\n",
       "      <td>2.84</td>\n",
       "    </tr>\n",
       "    <tr>\n",
       "      <td>3</td>\n",
       "      <td>AAON</td>\n",
       "      <td>AAON INC</td>\n",
       "      <td>50.85</td>\n",
       "      <td>0.840</td>\n",
       "      <td>1.68</td>\n",
       "      <td>53.0</td>\n",
       "      <td>9.50</td>\n",
       "      <td>2.91</td>\n",
       "    </tr>\n",
       "    <tr>\n",
       "      <td>4</td>\n",
       "      <td>AIR</td>\n",
       "      <td>AAR CORP</td>\n",
       "      <td>46.78</td>\n",
       "      <td>0.010</td>\n",
       "      <td>0.02</td>\n",
       "      <td>17.9</td>\n",
       "      <td>16.21</td>\n",
       "      <td>3.73</td>\n",
       "    </tr>\n",
       "    <tr>\n",
       "      <td>...</td>\n",
       "      <td>...</td>\n",
       "      <td>...</td>\n",
       "      <td>...</td>\n",
       "      <td>...</td>\n",
       "      <td>...</td>\n",
       "      <td>...</td>\n",
       "      <td>...</td>\n",
       "      <td>...</td>\n",
       "    </tr>\n",
       "    <tr>\n",
       "      <td>1127</td>\n",
       "      <td>ZAGG</td>\n",
       "      <td>ZAGG INC</td>\n",
       "      <td>7.71</td>\n",
       "      <td>-0.280</td>\n",
       "      <td>-3.50</td>\n",
       "      <td>59.3</td>\n",
       "      <td>44.80</td>\n",
       "      <td>-4.93</td>\n",
       "    </tr>\n",
       "    <tr>\n",
       "      <td>1128</td>\n",
       "      <td>ZIOP</td>\n",
       "      <td>ZIOPHARM ONCOLOGY INC</td>\n",
       "      <td>4.55</td>\n",
       "      <td>-0.040</td>\n",
       "      <td>-0.87</td>\n",
       "      <td>6.1</td>\n",
       "      <td>100.00</td>\n",
       "      <td>-3.60</td>\n",
       "    </tr>\n",
       "    <tr>\n",
       "      <td>1129</td>\n",
       "      <td>ZIXI</td>\n",
       "      <td>ZIX CORP</td>\n",
       "      <td>7.73</td>\n",
       "      <td>0.215</td>\n",
       "      <td>2.86</td>\n",
       "      <td>0.0</td>\n",
       "      <td>82.01</td>\n",
       "      <td>13.94</td>\n",
       "    </tr>\n",
       "    <tr>\n",
       "      <td>1130</td>\n",
       "      <td>ZGNX</td>\n",
       "      <td>ZOGENIX INC</td>\n",
       "      <td>52.70</td>\n",
       "      <td>0.680</td>\n",
       "      <td>1.31</td>\n",
       "      <td>0.0</td>\n",
       "      <td>32.85</td>\n",
       "      <td>1.09</td>\n",
       "    </tr>\n",
       "    <tr>\n",
       "      <td>1131</td>\n",
       "      <td>ZUMZ</td>\n",
       "      <td>ZUMIEZ INC</td>\n",
       "      <td>33.97</td>\n",
       "      <td>-0.510</td>\n",
       "      <td>-1.49</td>\n",
       "      <td>14.7</td>\n",
       "      <td>39.37</td>\n",
       "      <td>-1.66</td>\n",
       "    </tr>\n",
       "  </tbody>\n",
       "</table>\n",
       "<p>1132 rows × 8 columns</p>\n",
       "</div>"
      ],
      "text/plain": [
       "     Oznaka           Ime_podjetja   Cena  Sprememba_cene  \\\n",
       "0      FLWS      1-800 FLOWERS COM  13.64          -0.160   \n",
       "1      SRCE        1ST SOURCE CORP  50.71          -0.080   \n",
       "2       AHC          A H BELO CORP   2.90           0.009   \n",
       "3      AAON               AAON INC  50.85           0.840   \n",
       "4       AIR               AAR CORP  46.78           0.010   \n",
       "...     ...                    ...    ...             ...   \n",
       "1127   ZAGG               ZAGG INC   7.71          -0.280   \n",
       "1128   ZIOP  ZIOPHARM ONCOLOGY INC   4.55          -0.040   \n",
       "1129   ZIXI               ZIX CORP   7.73           0.215   \n",
       "1130   ZGNX            ZOGENIX INC  52.70           0.680   \n",
       "1131   ZUMZ             ZUMIEZ INC  33.97          -0.510   \n",
       "\n",
       "      Sprememba_v_odstotkih  PE_razmerje  Stevilo_delnic  Sprememba_do_danes  \n",
       "0                     -1.16         24.8           47.85               -5.93  \n",
       "1                     -0.16         14.3            3.22               -2.26  \n",
       "2                      0.31          4.9            2.75                2.84  \n",
       "3                      1.68         53.0            9.50                2.91  \n",
       "4                      0.02         17.9           16.21                3.73  \n",
       "...                     ...          ...             ...                 ...  \n",
       "1127                  -3.50         59.3           44.80               -4.93  \n",
       "1128                  -0.87          6.1          100.00               -3.60  \n",
       "1129                   2.86          0.0           82.01               13.94  \n",
       "1130                   1.31          0.0           32.85                1.09  \n",
       "1131                  -1.49         14.7           39.37               -1.66  \n",
       "\n",
       "[1132 rows x 8 columns]"
      ]
     },
     "execution_count": 255,
     "metadata": {},
     "output_type": "execute_result"
    }
   ],
   "source": [
    "delnice['Stevilo_delnic'] = delnice['Stevilo_delnic']/10000\n",
    "delnice"
   ]
  },
  {
   "cell_type": "markdown",
   "metadata": {},
   "source": [
    "V vseh nadaljnih predstavitvah podatkov sem uporabil število delnic v 10 000 zaradi lažje predstavitve."
   ]
  },
  {
   "cell_type": "code",
   "execution_count": 256,
   "metadata": {},
   "outputs": [
    {
     "data": {
      "text/plain": [
       "<matplotlib.axes._subplots.AxesSubplot at 0x179539be128>"
      ]
     },
     "execution_count": 256,
     "metadata": {},
     "output_type": "execute_result"
    },
    {
     "data": {
      "image/png": "[encoded data removed]",
      "text/plain": [
       "<Figure size 432x288 with 1 Axes>"
      ]
     },
     "metadata": {
      "needs_background": "light"
     },
     "output_type": "display_data"
    }
   ],
   "source": [
    "pozitivne_delnice = delnice['PE_razmerje'] > 0\n",
    "dobicek_delnice=delnice[pozitivne_delnice]\n",
    "podcenjene_delnice = dobicek_delnice['PE_razmerje'] < 15\n",
    "dobicek_delnice[podcenjene_delnice]['PE_razmerje'].hist(bins=100)"
   ]
  },
  {
   "cell_type": "markdown",
   "metadata": {},
   "source": [
    "Graf prikazuje vse delnice, katerih podjetja poslujejo z dobičkom, torej imajo PE razmerje pozitivno, in imajo PE razmerje nižje od 15, kar nam pove, da so manj popularne in torej nižje vrednotene. Opazimo, da ima delež narašča, če je višje PE razmerje."
   ]
  },
  {
   "cell_type": "code",
   "execution_count": 257,
   "metadata": {},
   "outputs": [
    {
     "data": {
      "text/plain": [
       "<matplotlib.axes._subplots.AxesSubplot at 0x1795399e6d8>"
      ]
     },
     "execution_count": 257,
     "metadata": {},
     "output_type": "execute_result"
    },
    {
     "data": {
      "image/png": "[encoded data removed]",
      "text/plain": [
       "<Figure size 432x288 with 1 Axes>"
      ]
     },
     "metadata": {
      "needs_background": "light"
     },
     "output_type": "display_data"
    }
   ],
   "source": [
    "delnice_dobicek = delnice[delnice.PE_razmerje > 0 ]\n",
    "delnice_dobicek.plot.scatter(x='PE_razmerje',y='Sprememba_v_odstotkih')\n"
   ]
  },
  {
   "cell_type": "markdown",
   "metadata": {},
   "source": [
    "Iz grafa razberemo, da večinoma delnice z nižjim PE razmerjem tudi bolj volatilne, torej so imele večja odstopanja v primerjavi s prejšnim letom."
   ]
  },
  {
   "cell_type": "code",
   "execution_count": 258,
   "metadata": {
    "scrolled": true
   },
   "outputs": [
    {
     "data": {
      "text/plain": [
       "<matplotlib.axes._subplots.AxesSubplot at 0x17953b2db38>"
      ]
     },
     "execution_count": 258,
     "metadata": {},
     "output_type": "execute_result"
    },
    {
     "data": {
      "image/png": "[encoded data removed]",
      "text/plain": [
       "<Figure size 432x288 with 1 Axes>"
      ]
     },
     "metadata": {
      "needs_background": "light"
     },
     "output_type": "display_data"
    }
   ],
   "source": [
    "delnice_dobicek2 = delnice[delnice.PE_razmerje > 0 ]\n",
    "delnice_dobicek2.plot.scatter(x='Sprememba_do_danes',y='Sprememba_v_odstotkih')\n"
   ]
  },
  {
   "cell_type": "markdown",
   "metadata": {},
   "source": [
    "Grafično sem skušal preveriti ali je kakšna povezava med spremembo v odstotkih v enem letu in spremembo v odstotkih v letošnjem letu. Za veliko večino sta vrednosti zelo podobni, vidimo pa da je bila rast v letošnjem letu višja kot pa rast v enem letu. V posameznih primerih pa prihaja do večjih odstopanj, kar nam pove, da so se večje spremembe zgodile v začetnih mesecih enega leta."
   ]
  },
  {
   "cell_type": "code",
   "execution_count": 259,
   "metadata": {},
   "outputs": [
    {
     "data": {
      "text/plain": [
       "<matplotlib.axes._subplots.AxesSubplot at 0x17953b83cf8>"
      ]
     },
     "execution_count": 259,
     "metadata": {},
     "output_type": "execute_result"
    },
    {
     "data": {
      "image/png": "[encoded data removed]",
      "text/plain": [
       "<Figure size 432x288 with 1 Axes>"
      ]
     },
     "metadata": {
      "needs_background": "light"
     },
     "output_type": "display_data"
    }
   ],
   "source": [
    "top_delnice = (delnice['Sprememba_v_odstotkih'] > 0) & (delnice['PE_razmerje'] > 0)\n",
    "delnice[top_delnice]['PE_razmerje'].hist(bins=100)"
   ]
  },
  {
   "cell_type": "markdown",
   "metadata": {},
   "source": [
    "Primerjal sem delnice, ki so v enem letu pridobile na vrednosti in ustvarjajo dobiček. Ugotovil sem, da je največ teh delnic z nižjim PE razmerjem. "
   ]
  },
  {
   "cell_type": "code",
   "execution_count": 260,
   "metadata": {},
   "outputs": [
    {
     "data": {
      "text/plain": [
       "<matplotlib.axes._subplots.AxesSubplot at 0x17953ce10f0>"
      ]
     },
     "execution_count": 260,
     "metadata": {},
     "output_type": "execute_result"
    },
    {
     "data": {
      "image/png": "[encoded data removed]",
      "text/plain": [
       "<Figure size 432x288 with 1 Axes>"
      ]
     },
     "metadata": {
      "needs_background": "light"
     },
     "output_type": "display_data"
    }
   ],
   "source": [
    "\n",
    "delnice1 = delnice[delnice['Cena'] < 100]\n",
    "delnice_po_ceni = delnice1.groupby('Cena')\n",
    "povprecje_po_ceni = delnice_po_ceni.mean()\n",
    "povprecje_delnice = povprecje_po_ceni[['Stevilo_delnic']]\n",
    "povprecje_delnice.plot()\n"
   ]
  },
  {
   "cell_type": "markdown",
   "metadata": {},
   "source": [
    "Izvedel sem primerjavo delnic s ceno pod 100 funtov in jih združil po ceni. Izbrane delnic sem analiziral po številu delnic in ugotovil, da imajo podjetja z največ delnicami večinoma nižje cene delnic."
   ]
  },
  {
   "cell_type": "code",
   "execution_count": 261,
   "metadata": {},
   "outputs": [
    {
     "data": {
      "text/plain": [
       "<matplotlib.axes._subplots.AxesSubplot at 0x17953d556a0>"
      ]
     },
     "execution_count": 261,
     "metadata": {},
     "output_type": "execute_result"
    },
    {
     "data": {
      "image/png": "[encoded data removed]",
      "text/plain": [
       "<Figure size 432x288 with 1 Axes>"
      ]
     },
     "metadata": {
      "needs_background": "light"
     },
     "output_type": "display_data"
    }
   ],
   "source": [
    "dobicek_delnice = delnice[(delnice['PE_razmerje'] > 0) & (delnice['Stevilo_delnic'] < 100)]\n",
    "izguba_delnice = delnice[(delnice['PE_razmerje'] == 0) & (delnice['Stevilo_delnic'] < 100)]\n",
    "ax = dobicek_delnice.plot.scatter(x='Stevilo_delnic', y='Cena', color='DarkBlue', label='Delnice z dobičkom')\n",
    "izguba_delnice.plot.scatter(x='Stevilo_delnic', y='Cena', color='DarkGreen', label='Delnice z izgubo', ax=ax)\n"
   ]
  },
  {
   "cell_type": "markdown",
   "metadata": {},
   "source": [
    "Primerjal sem podjetja, ki ustvarjajo izgubo in podjetja, ki ustvarjajo dobiček. Zaradi bolj nazorne predstavitve sem se omejil na podjetja, ki imajo manj kot milijon delnic. Razen redkih izjem so delnice podjetij, ki poslujejo z dobičkom precej višje vrednotena."
   ]
  },
  {
   "cell_type": "code",
   "execution_count": 262,
   "metadata": {},
   "outputs": [
    {
     "data": {
      "text/plain": [
       "<matplotlib.axes._subplots.AxesSubplot at 0x17953d4c3c8>"
      ]
     },
     "execution_count": 262,
     "metadata": {},
     "output_type": "execute_result"
    },
    {
     "data": {
      "image/png": "[encoded data removed]",
      "text/plain": [
       "<Figure size 432x288 with 1 Axes>"
      ]
     },
     "metadata": {
      "needs_background": "light"
     },
     "output_type": "display_data"
    }
   ],
   "source": [
    "delnice4 = delnice[delnice.Sprememba_v_odstotkih > -10 ]\n",
    "delnice5 = delnice4[delnice4.Sprememba_v_odstotkih < 10 ]\n",
    "delnice6 = delnice5[delnice5.Stevilo_delnic < 1000 ]\n",
    "delnice6.plot.scatter(x='Sprememba_v_odstotkih',y='Stevilo_delnic')"
   ]
  },
  {
   "cell_type": "markdown",
   "metadata": {},
   "source": [
    "Primerjal sem podjetja, ki imajo manj kot milijon delnic. Vidimo, da so podjetja z manjšim število delnic imela večja nihanja cene delnic kot podjetja z več delnicami. "
   ]
  },
  {
   "cell_type": "markdown",
   "metadata": {},
   "source": [
    "## Zakluček\n",
    "\n",
    "Ugotovimo, da so delnice z nižjim PE razmerjem načeloma boljše od tistih z višjim PE razmerjem. Podjetja, ki imajo na borti manj delnic so manj volatilna. Cene delnic so višje, če podjetje ustvarja dobiček. "
   ]
  }
 ],
 "metadata": {
  "kernelspec": {
   "display_name": "Python 3",
   "language": "python",
   "name": "python3"
  },
  "language_info": {
   "codemirror_mode": {
    "name": "ipython",
    "version": 3
   },
   "file_extension": ".py",
   "mimetype": "text/x-python",
   "name": "python",
   "nbconvert_exporter": "python",
   "pygments_lexer": "ipython3",
   "version": "3.7.0b1"
  }
 },
 "nbformat": 4,
 "nbformat_minor": 2
}
